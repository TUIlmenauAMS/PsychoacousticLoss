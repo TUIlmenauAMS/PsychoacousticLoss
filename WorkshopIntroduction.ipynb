{
 "cells": [
  {
   "cell_type": "markdown",
   "metadata": {
    "id": "fk6XKufp_t5B",
    "rise": {
     "scroll": true
    },
    "slideshow": {
     "slide_type": "slide"
    }
   },
   "source": [
    "# <center> Workshop \n",
    "# <center> \"Teaching AI to Hear Like We Do: Psychoacoustics in Machine Learning\"\n",
    "\n",
    "## <center> Gerald Schuller\n",
    "## <center> Ilmenau University of Technology\n",
    "## <center> Ilmenau, Germany"
   ]
  },
  {
   "cell_type": "markdown",
   "metadata": {
    "id": "3lbBHV8TAbcP",
    "rise": {
     "scroll": true
    },
    "slideshow": {
     "slide_type": "slide"
    }
   },
   "source": [
    "* Organized with the AES Technical Committee on Machine Learning and Artifical Intelligence (TC-MLAI) \n",
    "* Format: Short presentations with Questions and Answers and possibly panel discussion"
   ]
  },
  {
   "cell_type": "markdown",
   "metadata": {
    "id": "JukGfEWhiLuQ",
    "rise": {
     "scroll": true
    },
    "slideshow": {
     "slide_type": "slide"
    }
   },
   "source": [
    "## Technical Committee on Machine Learning and Artifical Intelligence\n",
    "* focuses on applications of machine learning and artificial intelligence in audio\n",
    "* Founded in 2021\n",
    "* https://www.aes.org/technical/mlai/"
   ]
  },
  {
   "cell_type": "markdown",
   "metadata": {
    "id": "t5qJcwmzBKxj",
    "rise": {
     "scroll": true
    },
    "slideshow": {
     "slide_type": "slide"
    }
   },
   "source": [
    "## Panelists, Topics\n",
    "* Gordon Wichern, MERL: High level perceptual loss functions, phase and magnitude\n",
    "* Renato Profeta, Gerald Schuller, Ilmenau University of Technology: Perceptual loss functions: psycho acoustic models and loss functions \n",
    "* Stefan Goetze, George Close, University of Sheffield: GAN-based perceptual metric prediction for speech enhancement\n",
    "* Martin Strauss, Bernd Edler, AudioLabs Erlangen: Perceptually motivated conditional input for Flow-based speech enhancement"
   ]
  }
 ],
 "metadata": {
  "colab": {
   "collapsed_sections": [],
   "provenance": []
  },
  "kernelspec": {
   "display_name": "Python 3 (ipykernel)",
   "language": "python",
   "name": "python3"
  },
  "language_info": {
   "codemirror_mode": {
    "name": "ipython",
    "version": 3
   },
   "file_extension": ".py",
   "mimetype": "text/x-python",
   "name": "python",
   "nbconvert_exporter": "python",
   "pygments_lexer": "ipython3",
   "version": "3.8.10"
  },
  "rise": {
   "scroll": true
  },
  "slideshow": {
   "slide_type": "slide"
  }
 },
 "nbformat": 4,
 "nbformat_minor": 1
}
